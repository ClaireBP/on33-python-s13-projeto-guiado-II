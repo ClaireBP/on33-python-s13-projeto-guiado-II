{
 "cells": [
  {
   "cell_type": "code",
   "execution_count": 4,
   "metadata": {},
   "outputs": [],
   "source": [
    "import pandas as pd\n",
    "import matplotlib.pyplot as plt\n",
    "from scipy.stats import ttest_ind\n",
    "import seaborn as sns"
   ]
  },
  {
   "cell_type": "code",
   "execution_count": 6,
   "metadata": {},
   "outputs": [],
   "source": [
    "# leitura do nosso arquivo csv\n",
    "df = pd.read_csv(\"ds_salaries.csv\")"
   ]
  },
  {
   "cell_type": "code",
   "execution_count": 3,
   "metadata": {},
   "outputs": [
    {
     "data": {
      "text/html": [
       "<div>\n",
       "<style scoped>\n",
       "    .dataframe tbody tr th:only-of-type {\n",
       "        vertical-align: middle;\n",
       "    }\n",
       "\n",
       "    .dataframe tbody tr th {\n",
       "        vertical-align: top;\n",
       "    }\n",
       "\n",
       "    .dataframe thead th {\n",
       "        text-align: right;\n",
       "    }\n",
       "</style>\n",
       "<table border=\"1\" class=\"dataframe\">\n",
       "  <thead>\n",
       "    <tr style=\"text-align: right;\">\n",
       "      <th></th>\n",
       "      <th>Unnamed: 0</th>\n",
       "      <th>work_year</th>\n",
       "      <th>experience_level</th>\n",
       "      <th>employment_type</th>\n",
       "      <th>job_title</th>\n",
       "      <th>salary</th>\n",
       "      <th>salary_currency</th>\n",
       "      <th>salary_in_usd</th>\n",
       "      <th>employee_residence</th>\n",
       "      <th>remote_ratio</th>\n",
       "      <th>company_location</th>\n",
       "      <th>company_size</th>\n",
       "    </tr>\n",
       "  </thead>\n",
       "  <tbody>\n",
       "    <tr>\n",
       "      <th>0</th>\n",
       "      <td>0</td>\n",
       "      <td>2020</td>\n",
       "      <td>MI</td>\n",
       "      <td>FT</td>\n",
       "      <td>Data Scientist</td>\n",
       "      <td>70000</td>\n",
       "      <td>EUR</td>\n",
       "      <td>79833</td>\n",
       "      <td>DE</td>\n",
       "      <td>0</td>\n",
       "      <td>DE</td>\n",
       "      <td>L</td>\n",
       "    </tr>\n",
       "    <tr>\n",
       "      <th>1</th>\n",
       "      <td>1</td>\n",
       "      <td>2020</td>\n",
       "      <td>SE</td>\n",
       "      <td>FT</td>\n",
       "      <td>Machine Learning Scientist</td>\n",
       "      <td>260000</td>\n",
       "      <td>USD</td>\n",
       "      <td>260000</td>\n",
       "      <td>JP</td>\n",
       "      <td>0</td>\n",
       "      <td>JP</td>\n",
       "      <td>S</td>\n",
       "    </tr>\n",
       "    <tr>\n",
       "      <th>2</th>\n",
       "      <td>2</td>\n",
       "      <td>2020</td>\n",
       "      <td>SE</td>\n",
       "      <td>FT</td>\n",
       "      <td>Big Data Engineer</td>\n",
       "      <td>85000</td>\n",
       "      <td>GBP</td>\n",
       "      <td>109024</td>\n",
       "      <td>GB</td>\n",
       "      <td>50</td>\n",
       "      <td>GB</td>\n",
       "      <td>M</td>\n",
       "    </tr>\n",
       "    <tr>\n",
       "      <th>3</th>\n",
       "      <td>3</td>\n",
       "      <td>2020</td>\n",
       "      <td>MI</td>\n",
       "      <td>FT</td>\n",
       "      <td>Product Data Analyst</td>\n",
       "      <td>20000</td>\n",
       "      <td>USD</td>\n",
       "      <td>20000</td>\n",
       "      <td>HN</td>\n",
       "      <td>0</td>\n",
       "      <td>HN</td>\n",
       "      <td>S</td>\n",
       "    </tr>\n",
       "    <tr>\n",
       "      <th>4</th>\n",
       "      <td>4</td>\n",
       "      <td>2020</td>\n",
       "      <td>SE</td>\n",
       "      <td>FT</td>\n",
       "      <td>Machine Learning Engineer</td>\n",
       "      <td>150000</td>\n",
       "      <td>USD</td>\n",
       "      <td>150000</td>\n",
       "      <td>US</td>\n",
       "      <td>50</td>\n",
       "      <td>US</td>\n",
       "      <td>L</td>\n",
       "    </tr>\n",
       "  </tbody>\n",
       "</table>\n",
       "</div>"
      ],
      "text/plain": [
       "   Unnamed: 0  work_year experience_level employment_type  \\\n",
       "0           0       2020               MI              FT   \n",
       "1           1       2020               SE              FT   \n",
       "2           2       2020               SE              FT   \n",
       "3           3       2020               MI              FT   \n",
       "4           4       2020               SE              FT   \n",
       "\n",
       "                    job_title  salary salary_currency  salary_in_usd  \\\n",
       "0              Data Scientist   70000             EUR          79833   \n",
       "1  Machine Learning Scientist  260000             USD         260000   \n",
       "2           Big Data Engineer   85000             GBP         109024   \n",
       "3        Product Data Analyst   20000             USD          20000   \n",
       "4   Machine Learning Engineer  150000             USD         150000   \n",
       "\n",
       "  employee_residence  remote_ratio company_location company_size  \n",
       "0                 DE             0               DE            L  \n",
       "1                 JP             0               JP            S  \n",
       "2                 GB            50               GB            M  \n",
       "3                 HN             0               HN            S  \n",
       "4                 US            50               US            L  "
      ]
     },
     "execution_count": 3,
     "metadata": {},
     "output_type": "execute_result"
    }
   ],
   "source": [
    "df.head()"
   ]
  },
  {
   "cell_type": "code",
   "execution_count": 4,
   "metadata": {},
   "outputs": [
    {
     "data": {
      "text/plain": [
       "(607, 12)"
      ]
     },
     "execution_count": 4,
     "metadata": {},
     "output_type": "execute_result"
    }
   ],
   "source": [
    "# quantidads de linhas e colunas\n",
    "df.shape"
   ]
  },
  {
   "cell_type": "code",
   "execution_count": 7,
   "metadata": {},
   "outputs": [],
   "source": [
    "# backup\n",
    "df_backup = df.copy()"
   ]
  },
  {
   "cell_type": "code",
   "execution_count": 6,
   "metadata": {},
   "outputs": [
    {
     "name": "stdout",
     "output_type": "stream",
     "text": [
      "Unnamed: 0            0\n",
      "work_year             0\n",
      "experience_level      0\n",
      "employment_type       0\n",
      "job_title             0\n",
      "salary                0\n",
      "salary_currency       0\n",
      "salary_in_usd         0\n",
      "employee_residence    0\n",
      "remote_ratio          0\n",
      "company_location      0\n",
      "company_size          0\n",
      "dtype: int64\n"
     ]
    }
   ],
   "source": [
    "#contar dados nulos em cada coluna\n",
    "numos_por_colunas = df.isnull().sum()\n",
    "print(numos_por_colunas)"
   ]
  },
  {
   "cell_type": "code",
   "execution_count": 8,
   "metadata": {},
   "outputs": [
    {
     "data": {
      "text/html": [
       "<div>\n",
       "<style scoped>\n",
       "    .dataframe tbody tr th:only-of-type {\n",
       "        vertical-align: middle;\n",
       "    }\n",
       "\n",
       "    .dataframe tbody tr th {\n",
       "        vertical-align: top;\n",
       "    }\n",
       "\n",
       "    .dataframe thead th {\n",
       "        text-align: right;\n",
       "    }\n",
       "</style>\n",
       "<table border=\"1\" class=\"dataframe\">\n",
       "  <thead>\n",
       "    <tr style=\"text-align: right;\">\n",
       "      <th></th>\n",
       "      <th>Unnamed: 0</th>\n",
       "      <th>work_year</th>\n",
       "      <th>salary</th>\n",
       "      <th>salary_in_usd</th>\n",
       "      <th>remote_ratio</th>\n",
       "    </tr>\n",
       "  </thead>\n",
       "  <tbody>\n",
       "    <tr>\n",
       "      <th>count</th>\n",
       "      <td>607.000000</td>\n",
       "      <td>607.000000</td>\n",
       "      <td>6.070000e+02</td>\n",
       "      <td>607.000000</td>\n",
       "      <td>607.00000</td>\n",
       "    </tr>\n",
       "    <tr>\n",
       "      <th>mean</th>\n",
       "      <td>303.000000</td>\n",
       "      <td>2021.405272</td>\n",
       "      <td>3.240001e+05</td>\n",
       "      <td>112297.869852</td>\n",
       "      <td>70.92257</td>\n",
       "    </tr>\n",
       "    <tr>\n",
       "      <th>std</th>\n",
       "      <td>175.370085</td>\n",
       "      <td>0.692133</td>\n",
       "      <td>1.544357e+06</td>\n",
       "      <td>70957.259411</td>\n",
       "      <td>40.70913</td>\n",
       "    </tr>\n",
       "    <tr>\n",
       "      <th>min</th>\n",
       "      <td>0.000000</td>\n",
       "      <td>2020.000000</td>\n",
       "      <td>4.000000e+03</td>\n",
       "      <td>2859.000000</td>\n",
       "      <td>0.00000</td>\n",
       "    </tr>\n",
       "    <tr>\n",
       "      <th>25%</th>\n",
       "      <td>151.500000</td>\n",
       "      <td>2021.000000</td>\n",
       "      <td>7.000000e+04</td>\n",
       "      <td>62726.000000</td>\n",
       "      <td>50.00000</td>\n",
       "    </tr>\n",
       "    <tr>\n",
       "      <th>50%</th>\n",
       "      <td>303.000000</td>\n",
       "      <td>2022.000000</td>\n",
       "      <td>1.150000e+05</td>\n",
       "      <td>101570.000000</td>\n",
       "      <td>100.00000</td>\n",
       "    </tr>\n",
       "    <tr>\n",
       "      <th>75%</th>\n",
       "      <td>454.500000</td>\n",
       "      <td>2022.000000</td>\n",
       "      <td>1.650000e+05</td>\n",
       "      <td>150000.000000</td>\n",
       "      <td>100.00000</td>\n",
       "    </tr>\n",
       "    <tr>\n",
       "      <th>max</th>\n",
       "      <td>606.000000</td>\n",
       "      <td>2022.000000</td>\n",
       "      <td>3.040000e+07</td>\n",
       "      <td>600000.000000</td>\n",
       "      <td>100.00000</td>\n",
       "    </tr>\n",
       "  </tbody>\n",
       "</table>\n",
       "</div>"
      ],
      "text/plain": [
       "       Unnamed: 0    work_year        salary  salary_in_usd  remote_ratio\n",
       "count  607.000000   607.000000  6.070000e+02     607.000000     607.00000\n",
       "mean   303.000000  2021.405272  3.240001e+05  112297.869852      70.92257\n",
       "std    175.370085     0.692133  1.544357e+06   70957.259411      40.70913\n",
       "min      0.000000  2020.000000  4.000000e+03    2859.000000       0.00000\n",
       "25%    151.500000  2021.000000  7.000000e+04   62726.000000      50.00000\n",
       "50%    303.000000  2022.000000  1.150000e+05  101570.000000     100.00000\n",
       "75%    454.500000  2022.000000  1.650000e+05  150000.000000     100.00000\n",
       "max    606.000000  2022.000000  3.040000e+07  600000.000000     100.00000"
      ]
     },
     "execution_count": 8,
     "metadata": {},
     "output_type": "execute_result"
    }
   ],
   "source": [
    "# descrição dos dados\n",
    "df.describe()"
   ]
  },
  {
   "cell_type": "code",
   "execution_count": 9,
   "metadata": {},
   "outputs": [],
   "source": [
    "#converter a colunas salary para float e formartar casas decimais\n",
    "df['salary'] = df['salary'].astype(float).round(2)"
   ]
  },
  {
   "cell_type": "code",
   "execution_count": 18,
   "metadata": {},
   "outputs": [
    {
     "name": "stdout",
     "output_type": "stream",
     "text": [
      "<class 'pandas.core.frame.DataFrame'>\n",
      "RangeIndex: 607 entries, 0 to 606\n",
      "Data columns (total 12 columns):\n",
      " #   Column              Non-Null Count  Dtype  \n",
      "---  ------              --------------  -----  \n",
      " 0   Unnamed: 0          607 non-null    int64  \n",
      " 1   work_year           607 non-null    int64  \n",
      " 2   experience_level    607 non-null    object \n",
      " 3   employment_type     607 non-null    object \n",
      " 4   job_title           607 non-null    object \n",
      " 5   salary              607 non-null    float64\n",
      " 6   salary_currency     607 non-null    object \n",
      " 7   salary_in_usd       607 non-null    int64  \n",
      " 8   employee_residence  607 non-null    object \n",
      " 9   remote_ratio        607 non-null    int64  \n",
      " 10  company_location    607 non-null    object \n",
      " 11  company_size        607 non-null    object \n",
      "dtypes: float64(1), int64(4), object(7)\n",
      "memory usage: 57.0+ KB\n",
      "None\n"
     ]
    }
   ],
   "source": [
    "#verificr informações\n",
    "info_df =df.info()\n",
    "print(info_df)"
   ]
  },
  {
   "cell_type": "code",
   "execution_count": 11,
   "metadata": {},
   "outputs": [
    {
     "data": {
      "text/plain": [
       "Index(['Unnamed: 0', 'work_year', 'experience_level', 'employment_type',\n",
       "       'job_title', 'salary', 'salary_currency', 'salary_in_usd',\n",
       "       'employee_residence', 'remote_ratio', 'company_location',\n",
       "       'company_size'],\n",
       "      dtype='object')"
      ]
     },
     "execution_count": 11,
     "metadata": {},
     "output_type": "execute_result"
    }
   ],
   "source": [
    "df.columns"
   ]
  },
  {
   "cell_type": "code",
   "execution_count": 12,
   "metadata": {},
   "outputs": [
    {
     "data": {
      "text/html": [
       "<div>\n",
       "<style scoped>\n",
       "    .dataframe tbody tr th:only-of-type {\n",
       "        vertical-align: middle;\n",
       "    }\n",
       "\n",
       "    .dataframe tbody tr th {\n",
       "        vertical-align: top;\n",
       "    }\n",
       "\n",
       "    .dataframe thead th {\n",
       "        text-align: right;\n",
       "    }\n",
       "</style>\n",
       "<table border=\"1\" class=\"dataframe\">\n",
       "  <thead>\n",
       "    <tr style=\"text-align: right;\">\n",
       "      <th></th>\n",
       "      <th>Unnamed: 0</th>\n",
       "      <th>work_year</th>\n",
       "      <th>salary</th>\n",
       "      <th>salary_in_usd</th>\n",
       "      <th>remote_ratio</th>\n",
       "    </tr>\n",
       "  </thead>\n",
       "  <tbody>\n",
       "    <tr>\n",
       "      <th>count</th>\n",
       "      <td>607.000000</td>\n",
       "      <td>607.000000</td>\n",
       "      <td>6.070000e+02</td>\n",
       "      <td>607.000000</td>\n",
       "      <td>607.00000</td>\n",
       "    </tr>\n",
       "    <tr>\n",
       "      <th>mean</th>\n",
       "      <td>303.000000</td>\n",
       "      <td>2021.405272</td>\n",
       "      <td>3.240001e+05</td>\n",
       "      <td>112297.869852</td>\n",
       "      <td>70.92257</td>\n",
       "    </tr>\n",
       "    <tr>\n",
       "      <th>std</th>\n",
       "      <td>175.370085</td>\n",
       "      <td>0.692133</td>\n",
       "      <td>1.544357e+06</td>\n",
       "      <td>70957.259411</td>\n",
       "      <td>40.70913</td>\n",
       "    </tr>\n",
       "    <tr>\n",
       "      <th>min</th>\n",
       "      <td>0.000000</td>\n",
       "      <td>2020.000000</td>\n",
       "      <td>4.000000e+03</td>\n",
       "      <td>2859.000000</td>\n",
       "      <td>0.00000</td>\n",
       "    </tr>\n",
       "    <tr>\n",
       "      <th>25%</th>\n",
       "      <td>151.500000</td>\n",
       "      <td>2021.000000</td>\n",
       "      <td>7.000000e+04</td>\n",
       "      <td>62726.000000</td>\n",
       "      <td>50.00000</td>\n",
       "    </tr>\n",
       "    <tr>\n",
       "      <th>50%</th>\n",
       "      <td>303.000000</td>\n",
       "      <td>2022.000000</td>\n",
       "      <td>1.150000e+05</td>\n",
       "      <td>101570.000000</td>\n",
       "      <td>100.00000</td>\n",
       "    </tr>\n",
       "    <tr>\n",
       "      <th>75%</th>\n",
       "      <td>454.500000</td>\n",
       "      <td>2022.000000</td>\n",
       "      <td>1.650000e+05</td>\n",
       "      <td>150000.000000</td>\n",
       "      <td>100.00000</td>\n",
       "    </tr>\n",
       "    <tr>\n",
       "      <th>max</th>\n",
       "      <td>606.000000</td>\n",
       "      <td>2022.000000</td>\n",
       "      <td>3.040000e+07</td>\n",
       "      <td>600000.000000</td>\n",
       "      <td>100.00000</td>\n",
       "    </tr>\n",
       "  </tbody>\n",
       "</table>\n",
       "</div>"
      ],
      "text/plain": [
       "       Unnamed: 0    work_year        salary  salary_in_usd  remote_ratio\n",
       "count  607.000000   607.000000  6.070000e+02     607.000000     607.00000\n",
       "mean   303.000000  2021.405272  3.240001e+05  112297.869852      70.92257\n",
       "std    175.370085     0.692133  1.544357e+06   70957.259411      40.70913\n",
       "min      0.000000  2020.000000  4.000000e+03    2859.000000       0.00000\n",
       "25%    151.500000  2021.000000  7.000000e+04   62726.000000      50.00000\n",
       "50%    303.000000  2022.000000  1.150000e+05  101570.000000     100.00000\n",
       "75%    454.500000  2022.000000  1.650000e+05  150000.000000     100.00000\n",
       "max    606.000000  2022.000000  3.040000e+07  600000.000000     100.00000"
      ]
     },
     "execution_count": 12,
     "metadata": {},
     "output_type": "execute_result"
    }
   ],
   "source": [
    "# descrição dos dados\n",
    "df.describe()"
   ]
  },
  {
   "cell_type": "code",
   "execution_count": 21,
   "metadata": {},
   "outputs": [
    {
     "name": "stdout",
     "output_type": "stream",
     "text": [
      "Empty DataFrame\n",
      "Columns: [Unnamed: 0, work_year, experience_level, employment_type, job_title, salary, salary_currency, salary_in_usd, employee_residence, remote_ratio, company_location, company_size]\n",
      "Index: []\n"
     ]
    }
   ],
   "source": [
    "def visualizar_duplicados(df):\n",
    "    #idenfica as linhas duplicadas\n",
    "    duplicados = df[df.duplicated(keep=False)]\n",
    "\n",
    "    return duplicados\n",
    "# vizualiza as ,inhas duplicadas\n",
    "duplicados = visualizar_duplicados(df)\n",
    "print(duplicados)"
   ]
  },
  {
   "cell_type": "markdown",
   "metadata": {},
   "source": [
    "# Analises"
   ]
  },
  {
   "cell_type": "code",
   "execution_count": 14,
   "metadata": {},
   "outputs": [
    {
     "name": "stdout",
     "output_type": "stream",
     "text": [
      "0             Germany\n",
      "1               Japan\n",
      "2      United Kingdom\n",
      "3            Honduras\n",
      "4       United States\n",
      "            ...      \n",
      "602     United States\n",
      "603     United States\n",
      "604     United States\n",
      "605     United States\n",
      "606     United States\n",
      "Name: company_location, Length: 607, dtype: object\n",
      "['Germany' 'Japan' 'United Kingdom' 'Honduras' 'United States' 'Hungary'\n",
      " 'New Zealand' 'France' 'India' 'Pakistan' 'China' 'Greece'\n",
      " 'United Arab Emirates' 'Netherlands' 'Mexico' 'Canada' 'Austria'\n",
      " 'Nigeria' 'Spain' 'Portugal' 'Denmark' 'Italy' 'Croatia' 'Luxembourg'\n",
      " 'Poland' 'Singapore' 'Romania' 'Iraq' 'Brazil' 'Belgium' 'Ukraine'\n",
      " 'Israel' 'Russia' 'Malta' 'Chile' 'Iran' 'Colombia' 'Moldova' 'Kenya'\n",
      " 'Slovenia' 'Switzerland' 'Vietnam' 'American Samoa' 'Turkey'\n",
      " 'Czech Republic' 'Algeria' 'Estonia' 'Malaysia' 'Australia' 'Ireland']\n"
     ]
    }
   ],
   "source": [
    "# Dicionário de mapeamento de códigos de países para nomes completos\n",
    "country_mapping = {\n",
    "    'DE': 'Germany', 'JP': 'Japan', 'GB': 'United Kingdom', 'HN': 'Honduras', 'US': 'United States',\n",
    "    'HU': 'Hungary', 'NZ': 'New Zealand', 'FR': 'France', 'IN': 'India', 'PK': 'Pakistan',\n",
    "    'CN': 'China', 'GR': 'Greece', 'AE': 'United Arab Emirates', 'NL': 'Netherlands',\n",
    "    'MX': 'Mexico', 'CA': 'Canada', 'AT': 'Austria', 'NG': 'Nigeria', 'ES': 'Spain',\n",
    "    'PT': 'Portugal', 'DK': 'Denmark', 'IT': 'Italy', 'HR': 'Croatia', 'LU': 'Luxembourg',\n",
    "    'PL': 'Poland', 'SG': 'Singapore', 'RO': 'Romania', 'IQ': 'Iraq', 'BR': 'Brazil',\n",
    "    'BE': 'Belgium', 'UA': 'Ukraine', 'IL': 'Israel', 'RU': 'Russia', 'MT': 'Malta',\n",
    "    'CL': 'Chile', 'IR': 'Iran', 'CO': 'Colombia', 'MD': 'Moldova', 'KE': 'Kenya',\n",
    "    'SI': 'Slovenia', 'CH': 'Switzerland', 'VN': 'Vietnam', 'AS': 'American Samoa',\n",
    "    'TR': 'Turkey', 'CZ': 'Czech Republic', 'DZ': 'Algeria', 'EE': 'Estonia',\n",
    "    'MY': 'Malaysia', 'AU': 'Australia', 'IE': 'Ireland'\n",
    "}\n",
    "\n",
    "\n",
    "# Renomeando os códigos dos países\n",
    "df['company_location'] = df['company_location'].replace(country_mapping)\n",
    "\n",
    "# Verificando o resultado\n",
    "print(df['company_location'])\n",
    "\n",
    "print(df['company_location'].unique())"
   ]
  },
  {
   "cell_type": "code",
   "execution_count": 15,
   "metadata": {},
   "outputs": [
    {
     "name": "stdout",
     "output_type": "stream",
     "text": [
      "['Germany' 'Japan' 'United Kingdom' 'Honduras' 'United States' 'Hungary'\n",
      " 'New Zealand' 'France' 'India' 'Pakistan' 'China' 'Greece'\n",
      " 'United Arab Emirates' 'Netherlands' 'Mexico' 'Canada' 'Austria'\n",
      " 'Nigeria' 'Spain' 'Portugal' 'Denmark' 'Italy' 'Croatia' 'Luxembourg'\n",
      " 'Poland' 'Singapore' 'Romania' 'Iraq' 'Brazil' 'Belgium' 'Ukraine'\n",
      " 'Israel' 'Russia' 'Malta' 'Chile' 'Iran' 'Colombia' 'Moldova' 'Kenya'\n",
      " 'Slovenia' 'Switzerland' 'Vietnam' 'American Samoa' 'Turkey'\n",
      " 'Czech Republic' 'Algeria' 'Estonia' 'Malaysia' 'Australia' 'Ireland']\n"
     ]
    }
   ],
   "source": [
    "distinct_locations = df['company_location'].unique()\n",
    "print(distinct_locations)"
   ]
  },
  {
   "cell_type": "code",
   "execution_count": null,
   "metadata": {},
   "outputs": [],
   "source": []
  },
  {
   "cell_type": "code",
   "execution_count": 37,
   "metadata": {},
   "outputs": [
    {
     "name": "stdout",
     "output_type": "stream",
     "text": [
      "Maior Salário:\n",
      "Cargo: Data Scientist\n",
      "Tamanho da Empresa: L\n",
      "Localização da Empresa: Chile\n",
      "\n",
      "Menor Salário:\n",
      "Cargo: Data Engineer\n",
      "Tamanho da Empresa: M\n",
      "Localização da Empresa: Iran\n"
     ]
    }
   ],
   "source": [
    "# Qual o menor e maior salário de acordo com o cargo e tamanho da Empresa?\n",
    "#    'S': 'Small','M': 'Medium','L': 'Large'\n",
    "# \n",
    "    \n",
    "    \n",
    "max_salary_row = df.loc[df['salary'].idxmax()]\n",
    "min_salary_row = df.loc[df['salary'].idxmin()]\n",
    "\n",
    "max_salary_job_title = max_salary_row['job_title']\n",
    "min_salary_job_title = min_salary_row['job_title']\n",
    "\n",
    "max_salary_company_size = max_salary_row['company_size']\n",
    "min_salary_company_size = min_salary_row['company_size']\n",
    "\n",
    "max_salary_company_location = max_salary_row['company_location']\n",
    "min_salary_company_location = min_salary_row['company_location']\n",
    "\n",
    "print(\"Maior Salário:\")\n",
    "print(\"Cargo:\", max_salary_job_title)\n",
    "print(\"Tamanho da Empresa:\", max_salary_company_size)\n",
    "print(\"Localização da Empresa:\", max_salary_company_location)\n",
    "\n",
    "print(\"\\nMenor Salário:\")\n",
    "print(\"Cargo:\", min_salary_job_title)\n",
    "print(\"Tamanho da Empresa:\", min_salary_company_size)\n",
    "print(\"Localização da Empresa:\", min_salary_company_location)"
   ]
  },
  {
   "cell_type": "code",
   "execution_count": 82,
   "metadata": {},
   "outputs": [
    {
     "name": "stdout",
     "output_type": "stream",
     "text": [
      "experience_level\n",
      "EN     88\n",
      "EX     26\n",
      "MI    213\n",
      "SE    280\n",
      "Name: job_title, dtype: int64\n"
     ]
    },
    {
     "data": {
      "image/png": "[encoded data removed]",
      "text/plain": [
       "<Figure size 1200x500 with 1 Axes>"
      ]
     },
     "metadata": {},
     "output_type": "display_data"
    }
   ],
   "source": [
    "# Crie visualizações de gráficos com pandas, sendo no mínimo 4 gráficos.\n",
    "\n",
    "# EN: Entry Level (Nível de Entrada) / MI: Mid Level (Nível Intermediário)/SE: Senior Level (Nível Sênior)/EX: Executive Level (Nível Executivo)\n",
    "\n",
    "\n",
    "# Contagem de Cargos por Nível de Experiência\n",
    "contagem_cargos = df.groupby('experience_level')['job_title'].count()\n",
    "print(contagem_cargos)\n",
    "\n",
    "plt.figure(figsize=(12, 5)) #  é usado para definir o tamanho da figura do gráfico que você está prestes a criar.\n",
    "sns.barplot(x=contagem_cargos.index, y=contagem_cargos.values)\n",
    "plt.title('Contagem de Cargos por Nível de Experiência')\n",
    "plt.xlabel('Nível de Experiência')\n",
    "plt.ylabel('Quantidade de Cargos')\n",
    "plt.show()"
   ]
  },
  {
   "cell_type": "code",
   "execution_count": 63,
   "metadata": {},
   "outputs": [
    {
     "data": {
      "image/png": "[encoded data removed]",
      "text/plain": [
       "<Figure size 800x800 with 1 Axes>"
      ]
     },
     "metadata": {},
     "output_type": "display_data"
    }
   ],
   "source": [
    "# Distribuição de Tamanho das Empresas\n",
    "# '%1.1f%%  é usado para formatar os rótulos de porcentagem exibidos em cada setor do gráfico.\n",
    "df['company_size'].value_counts().plot.pie(autopct='%1.1f%%', figsize=(8, 8))\n",
    "plt.title('Distribuição de Tamanho das Empresas')\n",
    "plt.ylabel('')\n",
    "plt.show()"
   ]
  },
  {
   "cell_type": "code",
   "execution_count": 78,
   "metadata": {},
   "outputs": [
    {
     "data": {
      "image/png": "[encoded data removed]",
      "text/plain": [
       "<Figure size 800x800 with 1 Axes>"
      ]
     },
     "metadata": {},
     "output_type": "display_data"
    }
   ],
   "source": [
    "# Distribuição por nível de Experiência\n",
    "# EN: Entry Level (Nível de Entrada) / MI: Mid Level (Nível Intermediário)/SE: Senior Level (Nível Sênior)/EX: Executive Level (Nível Executivo)\n",
    "plt.figure(figsize=(8, 8))\n",
    "sizes = df['experience_level'].value_counts()\n",
    "plt.pie(sizes, labels=sizes.index, autopct='%1.1f%%', startangle=140)\n",
    "plt.title('Distribuição por Nível de Experiência')\n",
    "plt.show()"
   ]
  },
  {
   "cell_type": "code",
   "execution_count": 16,
   "metadata": {},
   "outputs": [
    {
     "data": {
      "image/png": "[encoded data removed]",
      "text/plain": [
       "<Figure size 1200x600 with 1 Axes>"
      ]
     },
     "metadata": {},
     "output_type": "display_data"
    }
   ],
   "source": [
    "\n",
    "\n",
    "\n",
    "# Calcular a média de salário por tamanho da empresa\n",
    "media_salario = df.groupby('company_size')['salary'].mean()\n",
    "\n",
    "# Criar o gráfico de barras com cores personalizadas\n",
    "plt.figure(figsize=(12, 6))\n",
    "colors = ['skyblue', 'lightgreen', 'salmon']  # Definir cores personalizadas\n",
    "media_salario.plot(kind='bar', color=colors)\n",
    "\n",
    "# Adicionar títulos e rótulos\n",
    "plt.title('Média de Salário por Tamanho da Empresa')\n",
    "plt.xlabel('Tamanho da Empresa')\n",
    "plt.ylabel('Média de Salário')\n",
    "\n",
    "# Exibir o gráfico\n",
    "plt.show()"
   ]
  },
  {
   "cell_type": "code",
   "execution_count": 91,
   "metadata": {},
   "outputs": [],
   "source": [
    "# Faça  consultas em sql\n",
    "\n",
    "import sqlite3 "
   ]
  },
  {
   "cell_type": "code",
   "execution_count": 112,
   "metadata": {},
   "outputs": [],
   "source": [
    "baby_df = df"
   ]
  },
  {
   "cell_type": "code",
   "execution_count": 132,
   "metadata": {},
   "outputs": [
    {
     "name": "stdout",
     "output_type": "stream",
     "text": [
      "  company_size  Contagem\n",
      "0            L       198\n",
      "1            M       326\n",
      "2            S        83\n"
     ]
    },
    {
     "data": {
      "text/plain": [
       "<function Connection.close()>"
      ]
     },
     "execution_count": 132,
     "metadata": {},
     "output_type": "execute_result"
    }
   ],
   "source": [
    "# conexao\n",
    "\n",
    "conn = sqlite3.connect(':memory:')\n",
    "\n",
    "# escrever o df em um SQL\n",
    "baby_df.to_sql('baby_df', conn, index=False, if_exists='replace')\n",
    "\n",
    "# executar a consulta\n",
    "\n",
    "query_sql = \"\"\"\n",
    "SELECT  company_size, COUNT('job_title') AS Contagem\n",
    "FROM baby_df\n",
    "GROUP BY company_size;\n",
    "\"\"\"\n",
    "contagem_por_jobtitle = pd.read_sql_query(query_sql, conn)\n",
    "print(contagem_por_jobtitle)\n",
    "\n",
    "#fechar\n",
    "conn.close"
   ]
  },
  {
   "cell_type": "code",
   "execution_count": null,
   "metadata": {},
   "outputs": [],
   "source": [
    "# Utilize a biblioteca Matplotlib ou Seaborn para construir novos gráficos\n",
    "# Teste Hipóteses\n",
    "\n",
    "# Teste de maior salário conforme localidade da Empresa\n",
    "\n",
    "\n",
    "# Hipótese Nula H0: Os maiores salário não relacionam com  o localidade da Empresa no United States.\n",
    "# Hipótese Alternativa H1: maiores salários relacionam com a localidade no United States\n"
   ]
  },
  {
   "cell_type": "code",
   "execution_count": 23,
   "metadata": {},
   "outputs": [
    {
     "name": "stdout",
     "output_type": "stream",
     "text": [
      "Teste T de Idade\n",
      " Estatística T: -2.592664200794162\n",
      " Valor P: 0.009753769047118726\n"
     ]
    }
   ],
   "source": [
    "# amostras\n",
    "\n",
    "\n",
    "# Filtrar salários para empresas localizadas nos EUA\n",
    "salario_usa = df[df['company_location'] == 'United States']['salary']\n",
    "\n",
    "# Filtrar salários para empresas localizadas fora dos EUA\n",
    "salario_nao_usa = df[df['company_location'] != 'United States']['salary']\n",
    "\n",
    "# teste t\n",
    "estatistica_t, valor_p = ttest_ind(salario_usa, salario_nao_usa)\n",
    "\n",
    "print(\"Teste T de Idade\")\n",
    "print(f\" Estatística T: {estatistica_t}\")\n",
    "print(f\" Valor P: {valor_p}\")\n",
    "\n"
   ]
  },
  {
   "cell_type": "code",
   "execution_count": 24,
   "metadata": {},
   "outputs": [
    {
     "name": "stdout",
     "output_type": "stream",
     "text": [
      "Rejeitamos a hipótese nula\n"
     ]
    }
   ],
   "source": [
    "#interpretação\n",
    "if valor_p < 0.05:\n",
    "    print(\"Rejeitamos a hipótese nula\")\n",
    "else:\n",
    "    print(\"Nâo rejeitamos a hipótese nula\")"
   ]
  },
  {
   "cell_type": "code",
   "execution_count": null,
   "metadata": {},
   "outputs": [],
   "source": [
    "Fim!!!"
   ]
  }
 ],
 "metadata": {
  "kernelspec": {
   "display_name": "Python 3",
   "language": "python",
   "name": "python3"
  },
  "language_info": {
   "codemirror_mode": {
    "name": "ipython",
    "version": 3
   },
   "file_extension": ".py",
   "mimetype": "text/x-python",
   "name": "python",
   "nbconvert_exporter": "python",
   "pygments_lexer": "ipython3",
   "version": "3.12.4"
  }
 },
 "nbformat": 4,
 "nbformat_minor": 2
}
